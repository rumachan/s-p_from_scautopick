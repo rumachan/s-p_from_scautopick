{
 "cells": [
  {
   "cell_type": "markdown",
   "metadata": {},
   "source": [
    "# S-P visualization using data from SC3 scautopick\n",
    "\n",
    "\n",
    "1. Use SC3 to pick P and S using scautopick; this creates sc3ml.\n",
    "2. Parse sc3ml to produce a text file.\n",
    "3. This notebook provides a basic visualization of the text file with S-P values. Also included in the file is the S-P SNR value."
   ]
  },
  {
   "cell_type": "code",
   "execution_count": null,
   "metadata": {},
   "outputs": [],
   "source": [
    "%%javascript\n",
    "IPython.OutputArea.prototype._should_scroll = function(lines) {\n",
    "    return false;\n",
    "}"
   ]
  },
  {
   "cell_type": "code",
   "execution_count": null,
   "metadata": {},
   "outputs": [],
   "source": [
    "import pandas as pd\n",
    "import matplotlib.pyplot as plt\n",
    "import numpy as np\n",
    "import sys\n",
    "\n",
    "%matplotlib inline"
   ]
  },
  {
   "cell_type": "code",
   "execution_count": null,
   "metadata": {},
   "outputs": [],
   "source": [
    "names = ['dt', 'sp', 'snr']\n",
    "\n",
    "site = 'WIZ'\n",
    "\n",
    "date1 = '20190527'\n",
    "date2 = '20190531'\n",
    "\n",
    "#construct and format the range of dates\n",
    "dr = pd.date_range(date1, date2, freq='D', )\n",
    "dates = dr.map(lambda x: x.strftime('%Y%m%d'))"
   ]
  },
  {
   "cell_type": "markdown",
   "metadata": {},
   "source": [
    "## Load and prepare data"
   ]
  },
  {
   "cell_type": "code",
   "execution_count": null,
   "metadata": {
    "scrolled": true
   },
   "outputs": [],
   "source": [
    "df  = pd.DataFrame()\n",
    "\n",
    "for date in dates:\n",
    "    xmlfile = site+'_'+date+'_sc3_s-p.dat'\n",
    "    print (xmlfile)\n",
    "    dfile = pd.read_csv(xmlfile, delim_whitespace=True, header=None, parse_dates=[0])\n",
    "    df = df.append(dfile)"
   ]
  },
  {
   "cell_type": "code",
   "execution_count": null,
   "metadata": {},
   "outputs": [],
   "source": [
    "df.columns = names\n",
    "df.set_index('dt', inplace=True)\n",
    "\n",
    "#replace snr values above some threshold\n",
    "df['snr'].values[df['snr'].values > 15] = 15"
   ]
  },
  {
   "cell_type": "code",
   "execution_count": null,
   "metadata": {},
   "outputs": [],
   "source": [
    "#data set with SNR >=10\n",
    "dfbest = df[df['snr']>=10]"
   ]
  },
  {
   "cell_type": "markdown",
   "metadata": {},
   "source": [
    "## Visualize"
   ]
  },
  {
   "cell_type": "markdown",
   "metadata": {},
   "source": [
    "### Time-series"
   ]
  },
  {
   "cell_type": "code",
   "execution_count": null,
   "metadata": {
    "scrolled": true
   },
   "outputs": [],
   "source": [
    "fig = plt.figure(figsize=(15, 5))\n",
    "ax = fig.add_subplot(1,1,1)\n",
    "\n",
    "plt.scatter(df.index, df.sp, c=df.snr, edgecolors='None', s=20, cmap='binary')\n",
    "plt.colorbar(label='S-P SNR')\n",
    "\n",
    "plt.ylim(0,4)\n",
    "plt.xlim(date1, date2)\n",
    "plt.ylabel('S-P (sec)')\n",
    "\n",
    "plt.title('S-P at '+site)\n",
    "\n",
    "plt.savefig(site+'_S-P_time-series.png')"
   ]
  },
  {
   "cell_type": "markdown",
   "metadata": {},
   "source": [
    "### Histogram"
   ]
  },
  {
   "cell_type": "code",
   "execution_count": null,
   "metadata": {},
   "outputs": [],
   "source": [
    "#bins, full range of observations, 0.1 second bins\n",
    "bins = np.arange(np.around(df['sp'].values.min(), decimals=1), df['sp'].values.max(), 0.1)\n",
    "\n",
    "title = 'Distribution of S-P at '+ site\n",
    "fig,(ax) = plt.subplots(1, 1, figsize=(8,6))\n",
    "df['sp'].plot.hist(ax=ax, bins=bins, label='all data', title=title)\n",
    "dfbest['sp'].plot.hist(ax=ax, bins=bins, label='best data')\n",
    "ax.legend(loc='best')\n",
    "\n",
    "plt.savefig(site+'_S-P_histogram.png')"
   ]
  }
 ],
 "metadata": {
  "kernelspec": {
   "display_name": "Python 3",
   "language": "python",
   "name": "python3"
  },
  "language_info": {
   "codemirror_mode": {
    "name": "ipython",
    "version": 3
   },
   "file_extension": ".py",
   "mimetype": "text/x-python",
   "name": "python",
   "nbconvert_exporter": "python",
   "pygments_lexer": "ipython3",
   "version": "3.7.1"
  }
 },
 "nbformat": 4,
 "nbformat_minor": 2
}
